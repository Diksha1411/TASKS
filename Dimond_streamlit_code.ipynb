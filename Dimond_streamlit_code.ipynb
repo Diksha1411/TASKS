{
 "cells": [
  {
   "cell_type": "code",
   "execution_count": 23,
   "id": "f1d5c566",
   "metadata": {},
   "outputs": [
    {
     "name": "stderr",
     "output_type": "stream",
     "text": [
      "C:\\Users\\rutvi\\anaconda3\\lib\\site-packages\\sklearn\\base.py:493: FutureWarning: The feature names should match those that were passed during fit. Starting version 1.2, an error will be raised.\n",
      "Feature names must be in the same order as they were in fit.\n",
      "\n",
      "  warnings.warn(message, FutureWarning)\n"
     ]
    }
   ],
   "source": [
    "import streamlit as st\n",
    "import pandas as pd\n",
    "import pickle\n",
    "\n",
    "# Load the trained model\n",
    "with open('rf_model.pkl', 'rb') as file:\n",
    "    model = pickle.load(file)\n",
    "    \n",
    "# Set the title of the app\n",
    "st.title('Diamond Price Prediction App')\n",
    "\n",
    "# Define the unique values for 'cut', 'color', and 'clarity'\n",
    "cut_values = ['Ideal', 'Premium', 'Good', 'Very Good', 'Fair']\n",
    "color_values = ['E', 'I', 'J', 'H', 'F', 'G', 'D']\n",
    "clarity_values = ['SI2', 'SI1', 'VS1', 'VS2', 'VVS2', 'VVS1', 'I1', 'IF']\n",
    "\n",
    "\n",
    "\n",
    "# Function to perform one-hot encoding\n",
    "def one_hot_encode(df, column, values):\n",
    "    for value in values:\n",
    "        df[column + '_' + value] = (df[column] == value).astype(int)\n",
    "    df.drop(column, axis=1, inplace=True)\n",
    "\n",
    "# Function to get user input for prediction\n",
    "def get_user_input():\n",
    "    carat = st.slider('Carat', 0.2, 5.01, 0.8)\n",
    "    cut = st.selectbox('Cut', cut_values)\n",
    "    color = st.selectbox('Color', color_values)\n",
    "    clarity = st.selectbox('Clarity', clarity_values)\n",
    "    depth = st.slider('Depth', 43, 79, 61)\n",
    "    table = st.slider('Table', 43, 95, 57)\n",
    "    x = st.slider('x', 0, 10, 5)\n",
    "    y = st.slider('y', 0, 60, 30)\n",
    "    z = st.slider('z', 0, 32, 16)\n",
    "    \n",
    "    # Create a dictionary with the user input\n",
    "    data = {\n",
    "        'carat': carat,\n",
    "        'cut': cut,\n",
    "        'color': color,\n",
    "        'clarity': clarity,\n",
    "        'depth': depth,\n",
    "        'table': table,\n",
    "        'x': x,\n",
    "        'y': y,\n",
    "        'z': z\n",
    "    }\n",
    "    \n",
    "    # Convert the dictionary to a DataFrame\n",
    "    features = pd.DataFrame(data, index=[0])\n",
    "    \n",
    "    # Perform one-hot encoding\n",
    "    one_hot_encode(features, 'cut', cut_values)\n",
    "    one_hot_encode(features, 'color', color_values)\n",
    "    one_hot_encode(features, 'clarity', clarity_values)\n",
    "    \n",
    "    return features\n",
    "\n",
    "# Get user input\n",
    "user_input = get_user_input()\n",
    "\n",
    "# Make prediction\n",
    "prediction = model.predict(user_input)\n",
    "predicted_price = round(prediction[0], 2)\n",
    "\n",
    "# Display the prediction\n",
    "st.subheader('Prediction')\n",
    "st.write('The predicted price of the diamond is $', predicted_price)\n",
    "\n",
    "# Additional information and data display\n",
    "st.subheader('User Input Features')\n",
    "st.write(user_input)\n",
    "\n"
   ]
  },
  {
   "cell_type": "code",
   "execution_count": null,
   "id": "0e9f2fc8",
   "metadata": {},
   "outputs": [],
   "source": []
  }
 ],
 "metadata": {
  "kernelspec": {
   "display_name": "Python 3 (ipykernel)",
   "language": "python",
   "name": "python3"
  },
  "language_info": {
   "codemirror_mode": {
    "name": "ipython",
    "version": 3
   },
   "file_extension": ".py",
   "mimetype": "text/x-python",
   "name": "python",
   "nbconvert_exporter": "python",
   "pygments_lexer": "ipython3",
   "version": "3.9.13"
  }
 },
 "nbformat": 4,
 "nbformat_minor": 5
}
